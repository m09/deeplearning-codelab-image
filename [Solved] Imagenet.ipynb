{
 "cells": [
  {
   "cell_type": "code",
   "execution_count": 1,
   "metadata": {},
   "outputs": [],
   "source": [
    "%matplotlib inline"
   ]
  },
  {
   "cell_type": "markdown",
   "metadata": {},
   "source": [
    "Use Imagenet to tag your own photos\n",
    "===\n",
    "\n",
    "In this lab, we'll use an existing network (Xception) to tag our own photos."
   ]
  },
  {
   "cell_type": "markdown",
   "metadata": {},
   "source": [
    "Load an image\n",
    "---\n",
    "\n",
    "We'll use the Keras interface to the Pillow library to load up images. But then we'll have to manipulate them by hand.\n",
    "\n",
    "Our following models will use values between $-1$ and $1$ instead of $0$ and $255$ for pixels.\n",
    "\n",
    "- check what `x` looks like: `numpy`'s `.shape` attribute and a simple `print` call will do wonders!\n",
    "\n",
    "- transform `x` so that its values shift from $[0, 255]$ to $[-1, 1]$."
   ]
  },
  {
   "cell_type": "code",
   "execution_count": 7,
   "metadata": {},
   "outputs": [
    {
     "name": "stdout",
     "output_type": "stream",
     "text": [
      "(1, 299, 299, 3)\n",
      "[[[[ 226.  226.  228.]\n",
      "   [ 226.  226.  228.]\n",
      "   [ 226.  226.  228.]\n",
      "   ..., \n",
      "   [ 226.  226.  228.]\n",
      "   [ 227.  227.  229.]\n",
      "   [ 227.  227.  229.]]\n",
      "\n",
      "  [[ 226.  226.  228.]\n",
      "   [ 226.  226.  228.]\n",
      "   [ 226.  226.  228.]\n",
      "   ..., \n",
      "   [ 227.  225.  228.]\n",
      "   [ 226.  226.  228.]\n",
      "   [ 226.  226.  228.]]\n",
      "\n",
      "  [[ 226.  226.  228.]\n",
      "   [ 226.  226.  228.]\n",
      "   [ 225.  225.  227.]\n",
      "   ..., \n",
      "   [ 226.  226.  228.]\n",
      "   [ 226.  226.  228.]\n",
      "   [ 226.  226.  228.]]\n",
      "\n",
      "  ..., \n",
      "  [[ 134.  151.   83.]\n",
      "   [ 139.  152.  109.]\n",
      "   [ 113.  134.   67.]\n",
      "   ..., \n",
      "   [  96.  116.   44.]\n",
      "   [  89.  109.   37.]\n",
      "   [  85.  102.   31.]]\n",
      "\n",
      "  [[ 130.  150.   78.]\n",
      "   [ 131.  153.   81.]\n",
      "   [ 113.  135.   71.]\n",
      "   ..., \n",
      "   [  99.  121.   48.]\n",
      "   [  95.  116.   41.]\n",
      "   [  91.  107.   36.]]\n",
      "\n",
      "  [[ 126.  146.   74.]\n",
      "   [ 124.  146.   74.]\n",
      "   [ 111.  132.   63.]\n",
      "   ..., \n",
      "   [  95.  117.   45.]\n",
      "   [  97.  115.   41.]\n",
      "   [  94.  112.   38.]]]]\n",
      "[[[[ 0.77254903  0.77254903  0.78823531]\n",
      "   [ 0.77254903  0.77254903  0.78823531]\n",
      "   [ 0.77254903  0.77254903  0.78823531]\n",
      "   ..., \n",
      "   [ 0.77254903  0.77254903  0.78823531]\n",
      "   [ 0.78039217  0.78039217  0.79607844]\n",
      "   [ 0.78039217  0.78039217  0.79607844]]\n",
      "\n",
      "  [[ 0.77254903  0.77254903  0.78823531]\n",
      "   [ 0.77254903  0.77254903  0.78823531]\n",
      "   [ 0.77254903  0.77254903  0.78823531]\n",
      "   ..., \n",
      "   [ 0.78039217  0.7647059   0.78823531]\n",
      "   [ 0.77254903  0.77254903  0.78823531]\n",
      "   [ 0.77254903  0.77254903  0.78823531]]\n",
      "\n",
      "  [[ 0.77254903  0.77254903  0.78823531]\n",
      "   [ 0.77254903  0.77254903  0.78823531]\n",
      "   [ 0.7647059   0.7647059   0.78039217]\n",
      "   ..., \n",
      "   [ 0.77254903  0.77254903  0.78823531]\n",
      "   [ 0.77254903  0.77254903  0.78823531]\n",
      "   [ 0.77254903  0.77254903  0.78823531]]\n",
      "\n",
      "  ..., \n",
      "  [[ 0.05098045  0.18431377 -0.34901959]\n",
      "   [ 0.09019613  0.19215691 -0.14509803]\n",
      "   [-0.11372548  0.05098045 -0.47450978]\n",
      "   ..., \n",
      "   [-0.24705881 -0.09019607 -0.65490198]\n",
      "   [-0.30196077 -0.14509803 -0.70980394]\n",
      "   [-0.33333331 -0.19999999 -0.75686276]]\n",
      "\n",
      "  [[ 0.0196079   0.17647064 -0.38823527]\n",
      "   [ 0.02745104  0.20000005 -0.36470586]\n",
      "   [-0.11372548  0.05882359 -0.44313723]\n",
      "   ..., \n",
      "   [-0.2235294  -0.05098039 -0.62352943]\n",
      "   [-0.25490195 -0.09019607 -0.67843139]\n",
      "   [-0.28627449 -0.1607843  -0.71764708]]\n",
      "\n",
      "  [[-0.01176471  0.14509809 -0.41960782]\n",
      "   [-0.02745098  0.14509809 -0.41960782]\n",
      "   [-0.12941176  0.03529418 -0.50588238]\n",
      "   ..., \n",
      "   [-0.25490195 -0.08235294 -0.64705884]\n",
      "   [-0.23921567 -0.09803921 -0.67843139]\n",
      "   [-0.26274508 -0.12156862 -0.7019608 ]]]]\n"
     ]
    }
   ],
   "source": [
    "from keras.preprocessing import image\n",
    "import numpy as np\n",
    "\n",
    "def _load_img(path):\n",
    "    img = image.load_img(path, target_size=(299, 299))\n",
    "    x = image.img_to_array(img)\n",
    "    x = np.expand_dims(x, axis=0)\n",
    "    return x\n",
    "\n",
    "def _process_img(img):\n",
    "    img /= 255\n",
    "    img -= 0.5\n",
    "    img *= 2\n",
    "    return img\n",
    "\n",
    "def process_imgs(paths):\n",
    "    return np.concatenate([_process_img(_load_img(path)) for path in paths])\n",
    "\n",
    "img = _load_img('pics/dogs.jpg')\n",
    "print(img.shape)\n",
    "print(img)\n",
    "print(_process_img(img))"
   ]
  },
  {
   "cell_type": "markdown",
   "metadata": {},
   "source": [
    "Import an existing model\n",
    "---\n",
    "\n",
    "Keras applications contains a lot of high performing models. In this lab, we'll use the Xception model.\n",
    "\n",
    "- load the Xception network in the model variable."
   ]
  },
  {
   "cell_type": "code",
   "execution_count": 3,
   "metadata": {},
   "outputs": [],
   "source": [
    "from keras.applications.xception import Xception\n",
    "\n",
    "model = Xception(weights='imagenet')"
   ]
  },
  {
   "cell_type": "markdown",
   "metadata": {},
   "source": [
    "Plot the model\n",
    "---\n",
    "\n",
    "- plot the model thanks to Keras awesome visualization facilities :)"
   ]
  },
  {
   "cell_type": "code",
   "execution_count": 4,
   "metadata": {},
   "outputs": [],
   "source": [
    "from keras.utils import plot_model\n",
    "\n",
    "plot_model(model, to_file='xception-architecture.png')\n"
   ]
  },
  {
   "cell_type": "markdown",
   "metadata": {},
   "source": [
    "Predit classes\n",
    "---\n",
    "\n",
    "We can now finally predict classes from our images thanks to our model! To do so, we'll use the helper function decode_predictions from `imagenet_utils` of Keras.\n",
    "\n",
    "- define the predict_list function so that it takes as input preprocessed images and output a list of top 3 classes names."
   ]
  },
  {
   "cell_type": "code",
   "execution_count": 8,
   "metadata": {},
   "outputs": [
    {
     "data": {
      "text/plain": [
       "[['goose', 'prairie_chicken', 'bustard'],\n",
       " ['sports_car', 'convertible', 'beach_wagon'],\n",
       " ['Shih-Tzu', 'Lhasa', 'Pekinese']]"
      ]
     },
     "execution_count": 8,
     "metadata": {},
     "output_type": "execute_result"
    }
   ],
   "source": [
    "from keras.applications.imagenet_utils import decode_predictions\n",
    "\n",
    "\n",
    "def predict_list(imgs):\n",
    "    preds = model.predict(imgs)\n",
    "    preds = decode_predictions(preds, top=3)\n",
    "    preds = [[name for (_, name, _) in top] for top in preds]\n",
    "    return preds\n",
    "\n",
    "imgs = process_imgs(['pics/bird.jpg', 'pics/car.jpg', 'pics/dogs.jpg'])\n",
    "\n",
    "predict_list(imgs)"
   ]
  },
  {
   "cell_type": "code",
   "execution_count": 14,
   "metadata": {},
   "outputs": [
    {
     "data": {
      "text/plain": [
       "<matplotlib.figure.Figure at 0x7efcfb203780>"
      ]
     },
     "metadata": {},
     "output_type": "display_data"
    }
   ],
   "source": [
    "import numpy as np\n",
    "import seaborn as sns\n",
    "import matplotlib.pyplot as plt\n",
    "sns.set(style=\"white\", context=\"talk\")\n",
    "rs = np.random.RandomState(7)\n",
    "\n",
    "\n",
    "# Generate some sequential data\n",
    "x = np.arange(1, 256)\n",
    "y1 = np.arange(1, 256)\n",
    "sns.barplot(x, y1, palette=\"BuGn_d\", ax=ax1)\n",
    "\n",
    "# Finalize the plot\n",
    "sns.despine(bottom=True)\n",
    "plt.setp(f.axes, yticks=[])\n",
    "plt.tight_layout(h_pad=3)\n",
    "plt.show()"
   ]
  }
 ],
 "metadata": {
  "kernelspec": {
   "display_name": "Python 3",
   "language": "python",
   "name": "python3"
  },
  "language_info": {
   "codemirror_mode": {
    "name": "ipython",
    "version": 3
   },
   "file_extension": ".py",
   "mimetype": "text/x-python",
   "name": "python",
   "nbconvert_exporter": "python",
   "pygments_lexer": "ipython3",
   "version": "3.5.2"
  }
 },
 "nbformat": 4,
 "nbformat_minor": 2
}
