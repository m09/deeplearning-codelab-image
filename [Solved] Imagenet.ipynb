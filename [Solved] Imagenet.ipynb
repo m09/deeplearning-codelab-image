{
 "cells": [
  {
   "cell_type": "code",
   "execution_count": null,
   "metadata": {},
   "outputs": [],
   "source": [
    "%matplotlib inline"
   ]
  },
  {
   "cell_type": "markdown",
   "metadata": {},
   "source": [
    "Use Imagenet to tag your own photos\n",
    "===\n",
    "\n",
    "In this lab, we'll use an existing network (Xception) to tag our own photos."
   ]
  },
  {
   "cell_type": "markdown",
   "metadata": {},
   "source": [
    "Load an image\n",
    "---\n",
    "\n",
    "We'll use the Keras interface to the Pillow library to load up images. But then we'll have to manipulate them by hand.\n",
    "\n",
    "Our following models will use values between $-1$ and $1$ instead of $0$ and $255$ for pixels.\n",
    "\n",
    "- check what `x` looks like: `numpy`'s `.shape` attribute and a simple `print` call will do wonders!\n",
    "\n",
    "- transform `x` so that its values shift from $[0, 255]$ to $[-1, 1]$."
   ]
  },
  {
   "cell_type": "code",
   "execution_count": null,
   "metadata": {},
   "outputs": [],
   "source": [
    "from keras.preprocessing import image\n",
    "import numpy as np\n",
    "\n",
    "def process_img(path):\n",
    "    img = image.load_img(path, target_size=(299, 299))\n",
    "    img = image.img_to_array(img)\n",
    "    img = np.expand_dims(img, axis=0)\n",
    "    img /= 255\n",
    "    img -= 0.5\n",
    "    img *= 2\n",
    "    return img\n",
    "\n",
    "def process_imgs(paths):\n",
    "    return np.concatenate([process_img(path) for path in paths])"
   ]
  },
  {
   "cell_type": "markdown",
   "metadata": {},
   "source": [
    "Import an existing model\n",
    "---\n",
    "\n",
    "Keras applications contains a lot of high performing models. In this lab, we'll use the Xception model.\n",
    "\n",
    "- load the Xception network in the model variable."
   ]
  },
  {
   "cell_type": "code",
   "execution_count": null,
   "metadata": {},
   "outputs": [],
   "source": [
    "from keras.applications.xception import Xception\n",
    "\n",
    "model = Xception(weights='imagenet')"
   ]
  },
  {
   "cell_type": "markdown",
   "metadata": {},
   "source": [
    "Plot the model\n",
    "---\n",
    "\n",
    "- plot the model thanks to Keras awesome visualization facilities :)"
   ]
  },
  {
   "cell_type": "code",
   "execution_count": null,
   "metadata": {},
   "outputs": [],
   "source": [
    "from keras.utils import plot_model\n",
    "\n",
    "plot_model(model, to_file='xception-architecture.png')\n"
   ]
  },
  {
   "cell_type": "markdown",
   "metadata": {},
   "source": [
    "Predit classes\n",
    "---\n",
    "\n",
    "We can now finally predict classes from our images thanks to our model! To do so, we'll use the helper function `decode_predictions` from `imagenet_utils` of Keras.\n",
    "\n",
    "- define the predict_list function so that it takes as input preprocessed images and output a list of top 3 classes names."
   ]
  },
  {
   "cell_type": "code",
   "execution_count": null,
   "metadata": {},
   "outputs": [],
   "source": [
    "from keras.applications.imagenet_utils import decode_predictions\n",
    "\n",
    "\n",
    "def predict_list(imgs):\n",
    "    preds = model.predict(imgs)\n",
    "    preds = decode_predictions(preds, top=3)\n",
    "    preds = [[name for (_, name, _) in top] for top in preds]\n",
    "    return preds\n",
    "\n",
    "imgs = process_imgs(['pics/bird.jpg', 'pics/car.jpg', 'pics/dogs.jpg'])\n",
    "\n",
    "predict_list(imgs)"
   ]
  },
  {
   "cell_type": "code",
   "execution_count": null,
   "metadata": {},
   "outputs": [],
   "source": [
    "from keras.applications.xception import Xception\n",
    "from keras.utils import plot_model\n",
    "from keras.models import Model\n",
    "from keras.layers import Dense, GlobalAveragePooling2D\n",
    "from keras.optimizers import Adam\n",
    "import os\n",
    "import numpy as np\n",
    "\n",
    "\n",
    "\n",
    "def load_data():\n",
    "    def list_dir(d):\n",
    "        xs = os.listdir(d)\n",
    "        return [os.path.join(d, x) for x in xs]\n",
    "    def make_targets(x, y_class):\n",
    "        y = np.zeros((x.shape[0], 2))\n",
    "        y[:, y_class] = 1\n",
    "        return y\n",
    "    def make_dataset_part(d, y_class):\n",
    "        x_train = process_imgs(list_dir(os.path.join(d, 'train')))\n",
    "        x_test = process_imgs(list_dir(os.path.join(d, 'test')))\n",
    "        return ((x_train, make_targets(x_train, y_class)),\n",
    "                (x_test, make_targets(x_test, y_class)))\n",
    "    def glue_parts(parts):\n",
    "        (x_train, y_train), (x_test, y_test) = parts[0]\n",
    "        for (x_tr, y_tr), (x_te, y_te) in parts[1:]:\n",
    "            x_train = np.concatenate([x_train, x_tr], axis=0)\n",
    "            y_train = np.concatenate([y_train, y_tr], axis=0)\n",
    "            x_test = np.concatenate([x_test, x_te], axis=0)\n",
    "            y_test = np.concatenate([y_test, y_te], axis=0)\n",
    "        return (x_train, y_train), (x_test, y_test)\n",
    "    part_bront = make_dataset_part('pics/brontosaurus', 0)\n",
    "    part_steg = make_dataset_part('pics/stegosaurus', 1)\n",
    "    return glue_parts([part_bront, part_steg])\n",
    "\n",
    "base_model = Xception(weights='imagenet', include_top = False)\n",
    "plot_model(base_model, to_file='xception-architecture-stripped.png')\n",
    "x = base_model.output\n",
    "x = GlobalAveragePooling2D()(x)\n",
    "x = Dense(64, activation='relu')(x)\n",
    "predictions = Dense(2, activation='softmax')(x)\n",
    "model = Model(inputs=base_model.input, outputs=predictions)\n",
    "for layer in base_model.layers:\n",
    "    layer.trainable = False\n",
    "adam = Adam(lr=0.001)\n",
    "model.compile(optimizer=adam,\n",
    "              loss='categorical_crossentropy',\n",
    "              metrics=['accuracy'])\n",
    "(x_train, y_train), (x_test, y_test) = load_data()\n",
    "model.fit(x_train,\n",
    "          y_train,\n",
    "          epochs=3,\n",
    "          batch_size=8,\n",
    "          validation_data=(x_test, y_test))\n"
   ]
  }
 ],
 "metadata": {
  "kernelspec": {
   "display_name": "Python 3",
   "language": "python",
   "name": "python3"
  },
  "language_info": {
   "codemirror_mode": {
    "name": "ipython",
    "version": 3
   },
   "file_extension": ".py",
   "mimetype": "text/x-python",
   "name": "python",
   "nbconvert_exporter": "python",
   "pygments_lexer": "ipython3",
   "version": "3.5.2"
  }
 },
 "nbformat": 4,
 "nbformat_minor": 2
}
